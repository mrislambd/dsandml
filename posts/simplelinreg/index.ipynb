{
  "cells": [
    {
      "cell_type": "markdown",
      "metadata": {},
      "source": [
        "# Simple Linear Regression\n",
        "\n",
        "Rafiq Islam  \n",
        "2024-08-29\n",
        "\n",
        "# Simple Linear Regression"
      ],
      "id": "746cf017-d856-46e9-bc9a-dc59eb3be7db"
    },
    {
      "cell_type": "raw",
      "metadata": {
        "raw_mimetype": "text/html"
      },
      "source": [
        "<p style=\"text-align: justify\">"
      ],
      "id": "400ebb84-c7ce-4973-aa2d-d12f45909c87"
    },
    {
      "cell_type": "markdown",
      "metadata": {},
      "source": [
        "A simple linear regression in multiple predictors/input\n",
        "variables/features/independent variables/ explanatory\n",
        "variables/regressors/ covariates (many names) often takes the form"
      ],
      "id": "75870e35-4cfb-4904-8784-0303882d7cf7"
    },
    {
      "cell_type": "raw",
      "metadata": {
        "raw_mimetype": "text/html"
      },
      "source": [
        "</p>"
      ],
      "id": "cd78afc4-b59a-4883-996e-ca2a56c171ef"
    },
    {
      "cell_type": "markdown",
      "metadata": {},
      "source": [
        "$$\n",
        " y=f(\\mathbf{x})+\\epsilon =\\mathbf{\\beta}\\mathbf{x}+\\epsilon\n",
        " $$"
      ],
      "id": "f581a415-14a5-48fd-b9d6-1c4655d452ed"
    },
    {
      "cell_type": "raw",
      "metadata": {
        "raw_mimetype": "text/html"
      },
      "source": [
        "<p style=\"text-align: justify\">"
      ],
      "id": "43231365-a1b3-4b40-8e81-5c7bf049a6f2"
    },
    {
      "cell_type": "markdown",
      "metadata": {},
      "source": [
        "where $\\mathbf{\\beta} \\in \\mathbb{R}^d$ are regression parameters or\n",
        "constant values that we aim to estimate and\n",
        "$\\epsilon \\sim \\mathcal{N}(0,1)$ is a normally distributed error term\n",
        "independent of $x$ or also called the white noise."
      ],
      "id": "f8e6ddf4-0aac-4f11-8193-3ca6089018bd"
    },
    {
      "cell_type": "raw",
      "metadata": {
        "raw_mimetype": "text/html"
      },
      "source": [
        "</p>"
      ],
      "id": "2738652c-4ef4-4414-b472-0aeb7565c28a"
    },
    {
      "cell_type": "markdown",
      "metadata": {},
      "source": [
        "In this case, the model:\n",
        "\n",
        "$$\n",
        "y=f(x)+\\epsilon=\\beta_0+\\beta_1 x+\\epsilon\n",
        "$$"
      ],
      "id": "9d215307-5097-492d-9286-b7a1aa7bc80a"
    },
    {
      "cell_type": "raw",
      "metadata": {
        "raw_mimetype": "text/html"
      },
      "source": [
        "<p style=\"text-align: justify\">"
      ],
      "id": "a5ebf3cc-2644-41ce-9857-aa4df0b41b4e"
    },
    {
      "cell_type": "markdown",
      "metadata": {},
      "source": [
        "Therefore, in our model we need to estimate the parameters\n",
        "$\\beta_0,\\beta_1$. The true relationship between the explanatory\n",
        "variables and the dependent variable is $y=f(x)$. But our model is\n",
        "$y=f(x)+\\epsilon$. Here, this $f(x)$ is the working model with the data.\n",
        "In other words, $\\hat{y}=f(x)=\\hat{\\beta}_0+\\hat{\\beta}_1 x$. Therefore,\n",
        "there should be some error in the model prediction which we are calling\n",
        "$\\epsilon=\\|y-\\hat{y}\\|$ where $y$ is the true value and $\\hat{y}$ is\n",
        "the predicted value. This error term is normally distributed with mean 0\n",
        "and variance 1. To get the best estimate of the parameters\n",
        "$\\beta_0,\\beta_1$ we can minimize the error term as much as possible.\n",
        "So, we define the residual sum of squares (RSS) as:"
      ],
      "id": "8a5291ea-6835-4bb8-914f-a37ca8496827"
    },
    {
      "cell_type": "raw",
      "metadata": {
        "raw_mimetype": "text/html"
      },
      "source": [
        "</p>"
      ],
      "id": "17f35371-d44d-4835-b087-d0660563b61c"
    },
    {
      "cell_type": "markdown",
      "metadata": {},
      "source": [
        "Using multivariate calculus we see\n",
        "\n",
        "Setting the partial derivatives to zero we solve for\n",
        "$\\hat{\\beta_0},\\hat{\\beta_1}$ as follows\n",
        "\n",
        "and,\n",
        "\n",
        "Therefore, we have the following\n",
        "\n",
        "Simple Linear Regression `slr` is applicable for a single feature data\n",
        "set with contineous response variable."
      ],
      "id": "07cdd615-81be-46ab-a58b-df2f0ddce88a"
    },
    {
      "cell_type": "code",
      "execution_count": 1,
      "metadata": {},
      "outputs": [],
      "source": [
        "import numpy as np \n",
        "import matplotlib.pyplot as plt \n",
        "from sklearn.linear_model import LinearRegression"
      ],
      "id": "5974fe6c"
    },
    {
      "cell_type": "markdown",
      "metadata": {},
      "source": [
        "## Assumptions of Linear Regressions\n",
        "\n",
        "-   **Linearity:** The relationship between the feature set and the\n",
        "    target variable has to be linear.  \n",
        "-   **Homoscedasticity:** The variance of the residuals has to be\n",
        "    constant.  \n",
        "-   **Independence:** All the observations are independent of each\n",
        "    other.  \n",
        "-   **Normality:** The distribution of the dependent variable $y$ has to\n",
        "    be normal.\n",
        "\n",
        "## Synthetic Data\n",
        "\n",
        "To implement the algorithm, we need some synthetic data. To generate the\n",
        "synthetic data we use the linear equation $y(x)=2x+\\frac{1}{2}+\\xi$\n",
        "where $\\xi\\sim \\mathbf{N}(0,1)$"
      ],
      "id": "bc6bbf35-4b7b-4f77-8904-afec39496a2b"
    },
    {
      "cell_type": "code",
      "execution_count": 2,
      "metadata": {},
      "outputs": [],
      "source": [
        "X=np.random.random(100)\n",
        "y=2*X+0.5+np.random.randn(100)"
      ],
      "id": "1429739f"
    },
    {
      "cell_type": "markdown",
      "metadata": {},
      "source": [
        "Note that we used two random number generators, `np.random.random(n)`\n",
        "and `np.random.randn(n)`. The first one generates $n$ random numbers of\n",
        "values from the range (0,1) and the second one generates values from the\n",
        "standard normal distribution with mean 0 and variance or standard\n",
        "deviation 1."
      ],
      "id": "ac70e4f6-45f1-4154-8fd7-5e0348dadc49"
    },
    {
      "cell_type": "code",
      "execution_count": 3,
      "metadata": {},
      "outputs": [
        {
          "output_type": "display_data",
          "metadata": {},
          "data": {
            "image/png": "[encoded data removed]"
          }
        }
      ],
      "source": [
        "plt.figure(figsize=(9,6))\n",
        "plt.scatter(X,y)\n",
        "plt.xlabel('$X$')\n",
        "plt.ylabel('y')\n",
        "plt.gca().set_facecolor('#f4f4f4') \n",
        "plt.gcf().patch.set_facecolor('#f4f4f4')\n",
        "plt.show()"
      ],
      "id": "1897ae34"
    },
    {
      "cell_type": "markdown",
      "metadata": {},
      "source": [
        "## Model\n",
        "\n",
        "We want to fit a simple linear regression to the above data."
      ],
      "id": "1b0ac7f5-22fd-4b1a-b4db-62b7c95c2f60"
    },
    {
      "cell_type": "code",
      "execution_count": 4,
      "metadata": {},
      "outputs": [],
      "source": [
        "slr=LinearRegression()"
      ],
      "id": "ce2c017f"
    },
    {
      "cell_type": "markdown",
      "metadata": {},
      "source": [
        "Now to fit our data $X$ and $y$ we need to reshape the input variable.\n",
        "Because if we look at $X$,"
      ],
      "id": "95c0f083-738e-4343-aadc-63eb96644dbb"
    },
    {
      "cell_type": "code",
      "execution_count": 5,
      "metadata": {},
      "outputs": [
        {
          "output_type": "display_data",
          "metadata": {},
          "data": {
            "text/plain": [
              "array([0.15047032, 0.98234546, 0.68325283, 0.65921119, 0.95194117,\n",
              "       0.08940549, 0.15707081, 0.80657237, 0.9188223 , 0.73457401,\n",
              "       0.89609036, 0.16098853, 0.42757144, 0.72460698, 0.44511021,\n",
              "       0.76681327, 0.06918221, 0.82371313, 0.42776336, 0.01129405,\n",
              "       0.2884426 , 0.04376667, 0.73132812, 0.87402136, 0.81731919,\n",
              "       0.46934373, 0.42467876, 0.61574478, 0.15773746, 0.26315926,\n",
              "       0.64813953, 0.29530594, 0.86925196, 0.88702129, 0.60933655,\n",
              "       0.55317745, 0.9100922 , 0.56917275, 0.49059186, 0.88546712,\n",
              "       0.71081017, 0.12515973, 0.11652716, 0.74579068, 0.52048667,\n",
              "       0.81860021, 0.75184867, 0.44327405, 0.84929342, 0.4562144 ,\n",
              "       0.53558718, 0.91492603, 0.88818553, 0.43702884, 0.06092074,\n",
              "       0.59565352, 0.62592272, 0.35674011, 0.07540301, 0.12483096,\n",
              "       0.32800524, 0.33275609, 0.72178918, 0.32507102, 0.50749737,\n",
              "       0.19764208, 0.08147091, 0.30938208, 0.34407713, 0.80570397,\n",
              "       0.79153388, 0.69642063, 0.59618164, 0.70212211, 0.48574543,\n",
              "       0.78419942, 0.12725351, 0.13322811, 0.60368081, 0.8675421 ,\n",
              "       0.99545681, 0.53337963, 0.0255367 , 0.53890708, 0.42835853,\n",
              "       0.78758033, 0.52222892, 0.46301002, 0.13058828, 0.61032492,\n",
              "       0.7511933 , 0.91492231, 0.36426205, 0.00988804, 0.33356252,\n",
              "       0.46626613, 0.49912405, 0.65762556, 0.0364845 , 0.35416778])"
            ]
          }
        }
      ],
      "source": [
        "X"
      ],
      "id": "aad782b9"
    },
    {
      "cell_type": "markdown",
      "metadata": {},
      "source": [
        "It is a one-dimensional array/vector but the `slr` object accepts input\n",
        "variable as matrix or two-dimensional format."
      ],
      "id": "7ff6fa06-29f4-478e-8c70-441a3d0b4609"
    },
    {
      "cell_type": "code",
      "execution_count": 6,
      "metadata": {},
      "outputs": [
        {
          "output_type": "display_data",
          "metadata": {},
          "data": {
            "text/plain": [
              "array([[0.15047032],\n",
              "       [0.98234546],\n",
              "       [0.68325283],\n",
              "       [0.65921119],\n",
              "       [0.95194117],\n",
              "       [0.08940549],\n",
              "       [0.15707081],\n",
              "       [0.80657237],\n",
              "       [0.9188223 ],\n",
              "       [0.73457401]])"
            ]
          }
        }
      ],
      "source": [
        "X=X.reshape(-1,1)\n",
        "X[:10]"
      ],
      "id": "4f45d1dc"
    },
    {
      "cell_type": "markdown",
      "metadata": {},
      "source": [
        "Now we fit the data to our model"
      ],
      "id": "13f97c22-9e5a-497b-8f55-1eae4db77e74"
    },
    {
      "cell_type": "code",
      "execution_count": 7,
      "metadata": {},
      "outputs": [
        {
          "output_type": "display_data",
          "metadata": {},
          "data": {
            "text/plain": [
              "array([4.85461371, 7.09217468])"
            ]
          }
        }
      ],
      "source": [
        "slr.fit(X,y)\n",
        "slr.predict([[2],[3]])"
      ],
      "id": "660c63c4"
    },
    {
      "cell_type": "markdown",
      "metadata": {},
      "source": [
        "We have our $X=2,3$ and the corresponding $y$ values are from the above\n",
        "cell output, which are pretty close to the model $y=2x+\\frac{1}{2}$."
      ],
      "id": "3811b31c-bc84-4fa0-ba92-a96c6f55a9af"
    },
    {
      "cell_type": "code",
      "execution_count": 8,
      "metadata": {},
      "outputs": [],
      "source": [
        "intercept = round(slr.intercept_,4)\n",
        "slope = slr.coef_"
      ],
      "id": "72fc3b4b"
    },
    {
      "cell_type": "markdown",
      "metadata": {},
      "source": [
        "Now our model parameters are: intercept $\\beta_0=$ 0.3795 and slope\n",
        "$\\beta_1=$ array(\\[2.23756096\\])."
      ],
      "id": "b56ede59-70e5-4969-9d64-dd526ef0ebf7"
    },
    {
      "cell_type": "code",
      "execution_count": 9,
      "metadata": {},
      "outputs": [
        {
          "output_type": "display_data",
          "metadata": {},
          "data": {
            "image/png": "[encoded data removed]"
          }
        }
      ],
      "source": [
        "plt.figure(figsize=(9,6))\n",
        "plt.scatter(X,y, alpha=0.7,label=\"Sample Data\")\n",
        "plt.plot(np.linspace(0,1,100),\n",
        "    slr.predict(np.linspace(0,1,100).reshape(-1,1)),\n",
        "    'k',\n",
        "    label='Model $\\hat{f}$'\n",
        ")\n",
        "plt.plot(np.linspace(0,1,100),\n",
        "    2*np.linspace(0,1,100)+0.5,\n",
        "    'r--',\n",
        "    label='$f$'\n",
        ")\n",
        "plt.xlabel('$X$')\n",
        "plt.ylabel('y')\n",
        "plt.legend(fontsize=10)\n",
        "plt.gca().set_facecolor('#f4f4f4') \n",
        "plt.gcf().patch.set_facecolor('#f4f4f4')\n",
        "plt.show()"
      ],
      "id": "e5e29dd6"
    },
    {
      "cell_type": "markdown",
      "metadata": {},
      "source": [
        "So the model fits the data almost perfectly.\n",
        "\n",
        "Up next [multiple linear\n",
        "regression](../../posts/multiplelinreg/index.qmd).\n",
        "\n",
        "**Share on**\n",
        "\n",
        "<a href=\"https://www.facebook.com/sharer.php?u=https://mrislambd.github.io/dsandml/posts/simplelinreg/\" target=\"_blank\" style=\"color:#1877F2; text-decoration: none;\">\n",
        "\n",
        "</a>\n",
        "\n",
        "<a href=\"https://www.linkedin.com/sharing/share-offsite/?url=https://mrislambd.github.io/dsandml/posts/simplelinreg/\" target=\"_blank\" style=\"color:#0077B5; text-decoration: none;\">\n",
        "\n",
        "</a>\n",
        "\n",
        "<a href=\"https://www.twitter.com/intent/tweet?url=https://mrislambd.github.io/dsandml/posts/simplelinreg/\" target=\"_blank\" style=\"color:#1DA1F2; text-decoration: none;\">\n",
        "\n",
        "</a>"
      ],
      "id": "1c2a6880-5cb3-4571-a3ec-fd713a91caa3"
    },
    {
      "cell_type": "raw",
      "metadata": {
        "raw_mimetype": "text/html"
      },
      "source": [
        "<script src=\"https://giscus.app/client.js\"\n",
        "        data-repo=\"mrislambd/mrislambd.github.io\" \n",
        "        data-repo-id=\"R_kgDOMV8crA\"\n",
        "        data-category=\"Announcements\"\n",
        "        data-category-id=\"DIC_kwDOMV8crM4CjbQW\"\n",
        "        data-mapping=\"pathname\"\n",
        "        data-strict=\"0\"\n",
        "        data-reactions-enabled=\"1\"\n",
        "        data-emit-metadata=\"0\"\n",
        "        data-input-position=\"bottom\"\n",
        "        data-theme=\"light\"\n",
        "        data-lang=\"en\"\n",
        "        crossorigin=\"anonymous\"\n",
        "        async>\n",
        "</script>"
      ],
      "id": "e52d1cd1-baad-4459-80d9-95ceee2e0c1a"
    },
    {
      "cell_type": "markdown",
      "metadata": {},
      "source": [],
      "id": "d088246a-1f38-4090-8117-f84f88046155"
    },
    {
      "cell_type": "raw",
      "metadata": {
        "raw_mimetype": "text/html"
      },
      "source": [
        "<script async defer crossorigin=\"anonymous\"\n",
        " src=\"https://connect.facebook.net/en_US/sdk.js#xfbml=1&version=v20.0\"></script>"
      ],
      "id": "bc9472d4-a0ba-43d8-9ecb-410a8216e0b8"
    },
    {
      "cell_type": "markdown",
      "metadata": {},
      "source": [
        "**You may also like**"
      ],
      "id": "817f222a-cb65-431a-b1d7-e0e551d088b8"
    }
  ],
  "nbformat": 4,
  "nbformat_minor": 5,
  "metadata": {
    "kernelspec": {
      "name": "python3",
      "display_name": "Python 3 (ipykernel)",
      "language": "python",
      "path": "/opt/hostedtoolcache/Python/3.10.16/x64/share/jupyter/kernels/python3"
    },
    "language_info": {
      "name": "python",
      "codemirror_mode": {
        "name": "ipython",
        "version": "3"
      },
      "file_extension": ".py",
      "mimetype": "text/x-python",
      "nbconvert_exporter": "python",
      "pygments_lexer": "ipython3",
      "version": "3.10.16"
    }
  }
}