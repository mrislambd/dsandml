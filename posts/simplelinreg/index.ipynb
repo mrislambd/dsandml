{
  "cells": [
    {
      "cell_type": "markdown",
      "metadata": {},
      "source": [
        "# Simple Linear Regression\n",
        "\n",
        "Rafiq Islam  \n",
        "2024-08-29\n",
        "\n",
        "# Simple Linear Regression"
      ],
      "id": "28d999f7-a8db-496f-9227-a38ef6c4efc5"
    },
    {
      "cell_type": "raw",
      "metadata": {
        "raw_mimetype": "text/html"
      },
      "source": [
        "<p style=\"text-align: justify\">"
      ],
      "id": "bb9eeb3d-46f7-4cdd-b8bb-4f259b0f7b33"
    },
    {
      "cell_type": "markdown",
      "metadata": {},
      "source": [
        "A simple linear regression in multiple predictors/input\n",
        "variables/features/independent variables/ explanatory\n",
        "variables/regressors/ covariates (many names) often takes the form"
      ],
      "id": "0e7f1160-4362-4b9a-aa9c-14c806dbeccc"
    },
    {
      "cell_type": "raw",
      "metadata": {
        "raw_mimetype": "text/html"
      },
      "source": [
        "</p>"
      ],
      "id": "f6034714-393b-4f94-a33f-5955edc0777f"
    },
    {
      "cell_type": "markdown",
      "metadata": {},
      "source": [
        "$$\n",
        " y=f(\\mathbf{x})+\\epsilon =\\mathbf{\\beta}\\mathbf{x}+\\epsilon\n",
        " $$"
      ],
      "id": "26018807-4680-4f3a-b032-eb7e0a6f07b5"
    },
    {
      "cell_type": "raw",
      "metadata": {
        "raw_mimetype": "text/html"
      },
      "source": [
        "<p style=\"text-align: justify\">"
      ],
      "id": "faec5e7f-a99f-4356-bd77-093666028baf"
    },
    {
      "cell_type": "markdown",
      "metadata": {},
      "source": [
        "where $\\mathbf{\\beta} \\in \\mathbb{R}^d$ are regression parameters or\n",
        "constant values that we aim to estimate and\n",
        "$\\epsilon \\sim \\mathcal{N}(0,1)$ is a normally distributed error term\n",
        "independent of $x$ or also called the white noise."
      ],
      "id": "67e56074-b64a-4cba-aca9-03b252fa37f7"
    },
    {
      "cell_type": "raw",
      "metadata": {
        "raw_mimetype": "text/html"
      },
      "source": [
        "</p>"
      ],
      "id": "55897910-961e-4977-b205-8143b8b837e6"
    },
    {
      "cell_type": "markdown",
      "metadata": {},
      "source": [
        "In this case, the model:\n",
        "\n",
        "$$\n",
        "y=f(x)+\\epsilon=\\beta_0+\\beta_1 x+\\epsilon\n",
        "$$"
      ],
      "id": "1761edae-ee5d-417d-8dd6-7a0c676026fb"
    },
    {
      "cell_type": "raw",
      "metadata": {
        "raw_mimetype": "text/html"
      },
      "source": [
        "<p style=\"text-align: justify\">"
      ],
      "id": "df8403c4-5399-4512-af29-b17e4e742b48"
    },
    {
      "cell_type": "markdown",
      "metadata": {},
      "source": [
        "Therefore, in our model we need to estimate the parameters\n",
        "$\\beta_0,\\beta_1$. The true relationship between the explanatory\n",
        "variables and the dependent variable is $y=f(x)$. But our model is\n",
        "$y=f(x)+\\epsilon$. Here, this $f(x)$ is the working model with the data.\n",
        "In other words, $\\hat{y}=f(x)=\\hat{\\beta}_0+\\hat{\\beta}_1 x$. Therefore,\n",
        "there should be some error in the model prediction which we are calling\n",
        "$\\epsilon=\\|y-\\hat{y}\\|$ where $y$ is the true value and $\\hat{y}$ is\n",
        "the predicted value. This error term is normally distributed with mean 0\n",
        "and variance 1. To get the best estimate of the parameters\n",
        "$\\beta_0,\\beta_1$ we can minimize the error term as much as possible.\n",
        "So, we define the residual sum of squares (RSS) as:"
      ],
      "id": "1924a0dc-2da6-46a9-b8eb-6f3cd4d27b25"
    },
    {
      "cell_type": "raw",
      "metadata": {
        "raw_mimetype": "text/html"
      },
      "source": [
        "</p>"
      ],
      "id": "a486cccd-f6f8-4955-8f4b-a4295948fdce"
    },
    {
      "cell_type": "markdown",
      "metadata": {},
      "source": [
        "Using multivariate calculus we see\n",
        "\n",
        "Setting the partial derivatives to zero we solve for\n",
        "$\\hat{\\beta_0},\\hat{\\beta_1}$ as follows\n",
        "\n",
        "and,\n",
        "\n",
        "Therefore, we have the following\n",
        "\n",
        "Simple Linear Regression `slr` is applicable for a single feature data\n",
        "set with contineous response variable."
      ],
      "id": "2a3bdd1d-bdb2-43bb-8326-ac1e311954f1"
    },
    {
      "cell_type": "code",
      "execution_count": 1,
      "metadata": {},
      "outputs": [],
      "source": [
        "import numpy as np \n",
        "import matplotlib.pyplot as plt \n",
        "from sklearn.linear_model import LinearRegression"
      ],
      "id": "412a0a65"
    },
    {
      "cell_type": "markdown",
      "metadata": {},
      "source": [
        "## Assumptions of Linear Regressions\n",
        "\n",
        "-   **Linearity:** The relationship between the feature set and the\n",
        "    target variable has to be linear.  \n",
        "-   **Homoscedasticity:** The variance of the residuals has to be\n",
        "    constant.  \n",
        "-   **Independence:** All the observations are independent of each\n",
        "    other.  \n",
        "-   **Normality:** The distribution of the dependent variable $y$ has to\n",
        "    be normal.\n",
        "\n",
        "## Synthetic Data\n",
        "\n",
        "To implement the algorithm, we need some synthetic data. To generate the\n",
        "synthetic data we use the linear equation $y(x)=2x+\\frac{1}{2}+\\xi$\n",
        "where $\\xi\\sim \\mathbf{N}(0,1)$"
      ],
      "id": "2dcc1b61-704e-43ad-8f4b-2647d66b1000"
    },
    {
      "cell_type": "code",
      "execution_count": 2,
      "metadata": {},
      "outputs": [],
      "source": [
        "X=np.random.random(100)\n",
        "y=2*X+0.5+np.random.randn(100)"
      ],
      "id": "c001195a"
    },
    {
      "cell_type": "markdown",
      "metadata": {},
      "source": [
        "Note that we used two random number generators, `np.random.random(n)`\n",
        "and `np.random.randn(n)`. The first one generates $n$ random numbers of\n",
        "values from the range (0,1) and the second one generates values from the\n",
        "standard normal distribution with mean 0 and variance or standard\n",
        "deviation 1."
      ],
      "id": "ec6d99e3-f98a-40bb-8fd9-2878d44e24f8"
    },
    {
      "cell_type": "code",
      "execution_count": 3,
      "metadata": {},
      "outputs": [
        {
          "output_type": "display_data",
          "metadata": {},
          "data": {
            "image/png": "[encoded data removed]"
          }
        }
      ],
      "source": [
        "plt.figure(figsize=(9,6))\n",
        "plt.scatter(X,y)\n",
        "plt.xlabel('$X$')\n",
        "plt.ylabel('y')\n",
        "plt.gca().set_facecolor('#f4f4f4') \n",
        "plt.gcf().patch.set_facecolor('#f4f4f4')\n",
        "plt.show()"
      ],
      "id": "b20828ac"
    },
    {
      "cell_type": "markdown",
      "metadata": {},
      "source": [
        "## Model\n",
        "\n",
        "We want to fit a simple linear regression to the above data."
      ],
      "id": "8caca29d-ebf1-4dce-b77e-6fc4d8c351a8"
    },
    {
      "cell_type": "code",
      "execution_count": 4,
      "metadata": {},
      "outputs": [],
      "source": [
        "slr=LinearRegression()"
      ],
      "id": "30a8da1e"
    },
    {
      "cell_type": "markdown",
      "metadata": {},
      "source": [
        "Now to fit our data $X$ and $y$ we need to reshape the input variable.\n",
        "Because if we look at $X$,"
      ],
      "id": "7250eed6-54d9-4efc-b557-23fe981f40ad"
    },
    {
      "cell_type": "code",
      "execution_count": 5,
      "metadata": {},
      "outputs": [
        {
          "output_type": "display_data",
          "metadata": {},
          "data": {
            "text/plain": [
              "array([0.97002966, 0.48695941, 0.48836443, 0.6194503 , 0.06434374,\n",
              "       0.26060206, 0.63968715, 0.21955137, 0.02203616, 0.86254718,\n",
              "       0.44643492, 0.97089436, 0.24107449, 0.57845401, 0.28540082,\n",
              "       0.71980991, 0.11262406, 0.49762844, 0.39903354, 0.20121987,\n",
              "       0.40388812, 0.06659864, 0.85379035, 0.19042753, 0.71773199,\n",
              "       0.17172258, 0.39234321, 0.49950001, 0.80131742, 0.63131591,\n",
              "       0.16875714, 0.77024797, 0.24700839, 0.54506247, 0.21491927,\n",
              "       0.04295474, 0.41142677, 0.33956702, 0.28752546, 0.43100757,\n",
              "       0.10042935, 0.71813353, 0.14383793, 0.1883863 , 0.73228525,\n",
              "       0.22876976, 0.34954644, 0.06248064, 0.2927923 , 0.72663087,\n",
              "       0.91645047, 0.59307296, 0.51281516, 0.93421869, 0.96895675,\n",
              "       0.37289116, 0.21556509, 0.43580533, 0.13075451, 0.91890251,\n",
              "       0.03970192, 0.78561419, 0.07476148, 0.22134896, 0.1632921 ,\n",
              "       0.06573792, 0.23617575, 0.30343645, 0.31006557, 0.67712538,\n",
              "       0.69801597, 0.17398161, 0.31516631, 0.64661028, 0.16030656,\n",
              "       0.12597157, 0.87549903, 0.86871015, 0.92248019, 0.57903303,\n",
              "       0.72444878, 0.45417562, 0.28559038, 0.27268576, 0.90780993,\n",
              "       0.36909682, 0.89829294, 0.76762913, 0.53771843, 0.84166724,\n",
              "       0.42437881, 0.6384029 , 0.54507318, 0.42517498, 0.94144237,\n",
              "       0.91699095, 0.77907323, 0.33747024, 0.47240657, 0.61516242])"
            ]
          }
        }
      ],
      "source": [
        "X"
      ],
      "id": "a5d6e656"
    },
    {
      "cell_type": "markdown",
      "metadata": {},
      "source": [
        "It is a one-dimensional array/vector but the `slr` object accepts input\n",
        "variable as matrix or two-dimensional format."
      ],
      "id": "d649cfb4-ac78-40c1-b7e8-1fc68d9294de"
    },
    {
      "cell_type": "code",
      "execution_count": 6,
      "metadata": {},
      "outputs": [
        {
          "output_type": "display_data",
          "metadata": {},
          "data": {
            "text/plain": [
              "array([[0.97002966],\n",
              "       [0.48695941],\n",
              "       [0.48836443],\n",
              "       [0.6194503 ],\n",
              "       [0.06434374],\n",
              "       [0.26060206],\n",
              "       [0.63968715],\n",
              "       [0.21955137],\n",
              "       [0.02203616],\n",
              "       [0.86254718]])"
            ]
          }
        }
      ],
      "source": [
        "X=X.reshape(-1,1)\n",
        "X[:10]"
      ],
      "id": "843a8db9"
    },
    {
      "cell_type": "markdown",
      "metadata": {},
      "source": [
        "Now we fit the data to our model"
      ],
      "id": "9e2e5f3c-51b3-438e-90aa-73b871e72445"
    },
    {
      "cell_type": "code",
      "execution_count": 7,
      "metadata": {},
      "outputs": [
        {
          "output_type": "display_data",
          "metadata": {},
          "data": {
            "text/plain": [
              "array([3.60101634, 4.97768679])"
            ]
          }
        }
      ],
      "source": [
        "slr.fit(X,y)\n",
        "slr.predict([[2],[3]])"
      ],
      "id": "0e5250d0"
    },
    {
      "cell_type": "markdown",
      "metadata": {},
      "source": [
        "We have our $X=2,3$ and the corresponding $y$ values are from the above\n",
        "cell output, which are pretty close to the model $y=2x+\\frac{1}{2}$."
      ],
      "id": "5463f8b1-b554-4db8-adec-10cff2da46b2"
    },
    {
      "cell_type": "code",
      "execution_count": 8,
      "metadata": {},
      "outputs": [],
      "source": [
        "intercept = round(slr.intercept_,4)\n",
        "slope = slr.coef_"
      ],
      "id": "b8cd917f"
    },
    {
      "cell_type": "markdown",
      "metadata": {},
      "source": [
        "Now our model parameters are: intercept $\\beta_0=$ 0.8477 and slope\n",
        "$\\beta_1=$ array(\\[1.37667045\\])."
      ],
      "id": "2d76ff79-4a33-449c-9c18-381e5501aa48"
    },
    {
      "cell_type": "code",
      "execution_count": 9,
      "metadata": {},
      "outputs": [
        {
          "output_type": "display_data",
          "metadata": {},
          "data": {
            "image/png": "[encoded data removed]"
          }
        }
      ],
      "source": [
        "plt.figure(figsize=(9,6))\n",
        "plt.scatter(X,y, alpha=0.7,label=\"Sample Data\")\n",
        "plt.plot(np.linspace(0,1,100),\n",
        "    slr.predict(np.linspace(0,1,100).reshape(-1,1)),\n",
        "    'k',\n",
        "    label='Model $\\hat{f}$'\n",
        ")\n",
        "plt.plot(np.linspace(0,1,100),\n",
        "    2*np.linspace(0,1,100)+0.5,\n",
        "    'r--',\n",
        "    label='$f$'\n",
        ")\n",
        "plt.xlabel('$X$')\n",
        "plt.ylabel('y')\n",
        "plt.legend(fontsize=10)\n",
        "plt.gca().set_facecolor('#f4f4f4') \n",
        "plt.gcf().patch.set_facecolor('#f4f4f4')\n",
        "plt.show()"
      ],
      "id": "6943b16c"
    },
    {
      "cell_type": "markdown",
      "metadata": {},
      "source": [
        "So the model fits the data almost perfectly.\n",
        "\n",
        "Up next [multiple linear\n",
        "regression](../../posts/multiplelinreg/index.qmd).\n",
        "\n",
        "**Share on**\n",
        "\n",
        "<a href=\"https://www.facebook.com/sharer.php?u=https://mrislambd.github.io/dsandml/posts/simplelinreg/\" target=\"_blank\" style=\"color:#1877F2; text-decoration: none;\">\n",
        "\n",
        "</a>\n",
        "\n",
        "<a href=\"https://www.linkedin.com/sharing/share-offsite/?url=https://mrislambd.github.io/dsandml/posts/simplelinreg/\" target=\"_blank\" style=\"color:#0077B5; text-decoration: none;\">\n",
        "\n",
        "</a>\n",
        "\n",
        "<a href=\"https://www.twitter.com/intent/tweet?url=https://mrislambd.github.io/dsandml/posts/simplelinreg/\" target=\"_blank\" style=\"color:#1DA1F2; text-decoration: none;\">\n",
        "\n",
        "</a>"
      ],
      "id": "c0f706fb-1347-400b-ab3d-7a67952d2b06"
    },
    {
      "cell_type": "raw",
      "metadata": {
        "raw_mimetype": "text/html"
      },
      "source": [
        "<script src=\"https://giscus.app/client.js\"\n",
        "        data-repo=\"mrislambd/mrislambd.github.io\" \n",
        "        data-repo-id=\"R_kgDOMV8crA\"\n",
        "        data-category=\"Announcements\"\n",
        "        data-category-id=\"DIC_kwDOMV8crM4CjbQW\"\n",
        "        data-mapping=\"pathname\"\n",
        "        data-strict=\"0\"\n",
        "        data-reactions-enabled=\"1\"\n",
        "        data-emit-metadata=\"0\"\n",
        "        data-input-position=\"bottom\"\n",
        "        data-theme=\"light\"\n",
        "        data-lang=\"en\"\n",
        "        crossorigin=\"anonymous\"\n",
        "        async>\n",
        "</script>"
      ],
      "id": "b7859fd9-cc2f-4b23-9ad2-cdf741e1a179"
    },
    {
      "cell_type": "markdown",
      "metadata": {},
      "source": [],
      "id": "723c61fd-ad18-495d-a3f5-21ffca4dabe4"
    },
    {
      "cell_type": "raw",
      "metadata": {
        "raw_mimetype": "text/html"
      },
      "source": [
        "<script async defer crossorigin=\"anonymous\"\n",
        " src=\"https://connect.facebook.net/en_US/sdk.js#xfbml=1&version=v20.0\"></script>"
      ],
      "id": "78d3341b-2026-4f02-8a49-87bb5997ffa1"
    },
    {
      "cell_type": "markdown",
      "metadata": {},
      "source": [
        "**You may also like**"
      ],
      "id": "c19943f1-3e73-4c5f-acca-d273908088c3"
    }
  ],
  "nbformat": 4,
  "nbformat_minor": 5,
  "metadata": {
    "kernelspec": {
      "name": "python3",
      "display_name": "Python 3 (ipykernel)",
      "language": "python",
      "path": "/opt/hostedtoolcache/Python/3.10.16/x64/share/jupyter/kernels/python3"
    },
    "language_info": {
      "name": "python",
      "codemirror_mode": {
        "name": "ipython",
        "version": "3"
      },
      "file_extension": ".py",
      "mimetype": "text/x-python",
      "nbconvert_exporter": "python",
      "pygments_lexer": "ipython3",
      "version": "3.10.16"
    }
  }
}